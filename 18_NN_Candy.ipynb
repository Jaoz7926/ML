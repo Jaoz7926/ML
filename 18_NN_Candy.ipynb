{
  "nbformat": 4,
  "nbformat_minor": 0,
  "metadata": {
    "colab": {
      "provenance": [],
      "authorship_tag": "ABX9TyMwOA4sh9NhdjMdRWi7l0m4",
      "include_colab_link": true
    },
    "kernelspec": {
      "name": "python3",
      "display_name": "Python 3"
    },
    "language_info": {
      "name": "python"
    }
  },
  "cells": [
    {
      "cell_type": "markdown",
      "metadata": {
        "id": "view-in-github",
        "colab_type": "text"
      },
      "source": [
        "<a href=\"https://colab.research.google.com/github/Jaoz7926/ML/blob/main/18_NN_Candy.ipynb\" target=\"_parent\"><img src=\"https://colab.research.google.com/assets/colab-badge.svg\" alt=\"Open In Colab\"/></a>"
      ]
    },
    {
      "cell_type": "code",
      "execution_count": null,
      "metadata": {
        "id": "EF2Q_X5KbHuS"
      },
      "outputs": [],
      "source": [
        "import numpy as npy\n",
        "from tensorflow.keras.layers import Dense\n",
        "from tensorflow.keras.models import Sequential\n",
        "from tensorflow.keras.optimizers import SGD\n",
        "\n",
        "import pandas as pds\n",
        "dataframe = pds.read_csv('https://raw.githubusercontent.com/chihleebobo/0511/main/candy_1.csv')\n",
        "\n",
        "x = dataframe.drop('Price', axis=1)\n",
        "y = dataframe['Price']\n",
        "model0601 = Sequential() #使用Sequential來串接順序模型model0601的後續輸入等同於Sequential(Dense(........))\n",
        "model0601.add(Dense(units=1, input_shape=(1,), kernel_initializer='normal'))\n",
        "model0601.compile(loss='mse', optimizer=SGD(learning_rate=0.01), metrics=['accuracy'])\n",
        "print(model0601.summary())\n",
        "history0601 = model0601.fit(x, y, epochs=100, batch_size=1, verbose=0)\n",
        "print(model0601.predict(x))"
      ]
    },
    {
      "cell_type": "code",
      "source": [
        "from tensorflow.keras.models import load_model\n",
        "import numpy as npy\n",
        "model0601.save('model_XOR0601.keras')\n",
        "model0601_NEW = load_model('model_XOR0601.keras')\n",
        "x = [1,2,3,4,16]\n",
        "x = npy.array(x)\n",
        "y_new = model0601_NEW.predict(x)\n",
        "print(y_new)"
      ],
      "metadata": {
        "id": "1n-3rANTbNFn"
      },
      "execution_count": null,
      "outputs": []
    }
  ]
}